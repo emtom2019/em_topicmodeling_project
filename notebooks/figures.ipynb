{
 "cells": [
  {
   "cell_type": "code",
   "execution_count": 1,
   "metadata": {},
   "outputs": [
    {
     "data": {
      "text/html": [
       "        <script type=\"text/javascript\">\n",
       "        window.PlotlyConfig = {MathJaxConfig: 'local'};\n",
       "        if (window.MathJax) {MathJax.Hub.Config({SVG: {font: \"STIX-Web\"}});}\n",
       "        if (typeof require !== 'undefined') {\n",
       "        require.undef(\"plotly\");\n",
       "        requirejs.config({\n",
       "            paths: {\n",
       "                'plotly': ['https://cdn.plot.ly/plotly-latest.min']\n",
       "            }\n",
       "        });\n",
       "        require(['plotly'], function(Plotly) {\n",
       "            window._Plotly = Plotly;\n",
       "        });\n",
       "        }\n",
       "        </script>\n",
       "        "
      ]
     },
     "metadata": {},
     "output_type": "display_data"
    }
   ],
   "source": [
    "import pandas as pd\n",
    "import numpy as np\n",
    "import os\n",
    "\n",
    "import matplotlib.pyplot as plt\n",
    "import seaborn as sns\n",
    "from IPython.display import display\n",
    "%matplotlib inline\n",
    "\n",
    "import plotly.offline as py\n",
    "import plotly.graph_objs as go\n",
    "import plotly.tools as tls\n",
    "py.init_notebook_mode(connected=True)"
   ]
  },
  {
   "cell_type": "code",
   "execution_count": 2,
   "metadata": {},
   "outputs": [
    {
     "ename": "NameError",
     "evalue": "name 'df' is not defined",
     "output_type": "error",
     "traceback": [
      "\u001b[0;31m---------------------------------------------------------------------------\u001b[0m",
      "\u001b[0;31mNameError\u001b[0m                                 Traceback (most recent call last)",
      "\u001b[0;32m<ipython-input-2-0d72c5daaa9d>\u001b[0m in \u001b[0;36m<module>\u001b[0;34m()\u001b[0m\n\u001b[1;32m     43\u001b[0m \u001b[0;34m\u001b[0m\u001b[0m\n\u001b[1;32m     44\u001b[0m \u001b[0;34m\u001b[0m\u001b[0m\n\u001b[0;32m---> 45\u001b[0;31m \u001b[0mprocess_fig1\u001b[0m\u001b[0;34m(\u001b[0m\u001b[0mdf\u001b[0m\u001b[0;34m)\u001b[0m\u001b[0;34m\u001b[0m\u001b[0;34m\u001b[0m\u001b[0m\n\u001b[0m",
      "\u001b[0;31mNameError\u001b[0m: name 'df' is not defined"
     ]
    }
   ],
   "source": [
    "def process_fig1(df):\n",
    "    df = (df\n",
    "          .filter(items = ['journal', 'year'])\n",
    "          .assign(count = 1)\n",
    "          .groupby(['journal', 'year'])\n",
    "          .sum().groupby(['journal']).cumsum()\n",
    "          .reset_index()\n",
    "          .pivot_table(index='year',columns='journal',values='count')\n",
    "          .reset_index()\n",
    "          .fillna(value=0)\n",
    "         )\n",
    "    \n",
    "    y1 = df['Academic Emergency Medicine']\n",
    "    y2 = df['American Journal of Emergency Medicine']\n",
    "    y3 = df['Annals of Emergency Medicine']\n",
    "    y4 = df['BMC Emergency Medicine']\n",
    "    y5 = df['Journal of Emergency Medicine']\n",
    "    y6 = df['The Western Journal of Emergency Medicine']\n",
    "    \n",
    "    columns = df.columns[1:]\n",
    "    labs = columns.values.tolist()\n",
    "    labs[2], labs[0] = labs[0], labs[2]\n",
    "    \n",
    "    \n",
    "    a4_dims = (11.7, 8.27)\n",
    "    fig, ax = plt.subplots(figsize=a4_dims, dpi=600)\n",
    "    plt.stackplot(df['year'], y3, y2, y1, y4, y5, y6, labels=labs, alpha=0.8)\n",
    "    \n",
    "    ax.set_title('Number of Cumulative Publications in Emergency Medicine Journals', fontsize=18)\n",
    "    ax.legend(loc='upper left', fontsize=10, ncol=2)\n",
    "    plt.yticks(np.arange(5000, 25000, 5000), fontsize=10)\n",
    "    \n",
    "    \n",
    "\n",
    "    \n",
    "    # Lighten borders\n",
    "    plt.gca().spines[\"top\"].set_alpha(0)\n",
    "    plt.gca().spines[\"bottom\"].set_alpha(.3)\n",
    "    plt.gca().spines[\"right\"].set_alpha(0)\n",
    "    plt.gca().spines[\"left\"].set_alpha(.3)\n",
    "    \n",
    "    plt.show()\n",
    "\n",
    "    \n",
    "process_fig1(df)"
   ]
  },
  {
   "cell_type": "code",
   "execution_count": null,
   "metadata": {},
   "outputs": [],
   "source": []
  }
 ],
 "metadata": {
  "kernelspec": {
   "display_name": "Python [conda env:EDSepsisScreen]",
   "language": "python",
   "name": "conda-env-EDSepsisScreen-py"
  },
  "language_info": {
   "codemirror_mode": {
    "name": "ipython",
    "version": 3
   },
   "file_extension": ".py",
   "mimetype": "text/x-python",
   "name": "python",
   "nbconvert_exporter": "python",
   "pygments_lexer": "ipython3",
   "version": "3.6.8"
  }
 },
 "nbformat": 4,
 "nbformat_minor": 2
}
