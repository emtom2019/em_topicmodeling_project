{
 "cells": [
  {
   "cell_type": "markdown",
   "metadata": {},
   "source": [
    "#### Cleaning and Processing Abstract for Topic Modeling"
   ]
  },
  {
   "cell_type": "code",
   "execution_count": 1,
   "metadata": {},
   "outputs": [],
   "source": [
    "import sys\n",
    "import os\n",
    "import pandas as pd\n",
    "import pickle\n",
    "\n",
    "import warnings\n",
    "warnings.filterwarnings('ignore')\n",
    "\n",
    "from gensim.corpora import Dictionary\n",
    "from gensim.models import Phrases\n",
    "\n",
    "import gensim\n",
    "import nltk\n",
    "\n",
    "from nltk import word_tokenize\n",
    "from nltk.corpus import stopwords\n",
    "import re\n"
   ]
  },
  {
   "cell_type": "code",
   "execution_count": 2,
   "metadata": {},
   "outputs": [
    {
     "data": {
      "text/html": [
       "<div>\n",
       "<style scoped>\n",
       "    .dataframe tbody tr th:only-of-type {\n",
       "        vertical-align: middle;\n",
       "    }\n",
       "\n",
       "    .dataframe tbody tr th {\n",
       "        vertical-align: top;\n",
       "    }\n",
       "\n",
       "    .dataframe thead th {\n",
       "        text-align: right;\n",
       "    }\n",
       "</style>\n",
       "<table border=\"1\" class=\"dataframe\">\n",
       "  <thead>\n",
       "    <tr style=\"text-align: right;\">\n",
       "      <th></th>\n",
       "      <th>title</th>\n",
       "      <th>abstract</th>\n",
       "      <th>title_abstract</th>\n",
       "      <th>journal</th>\n",
       "      <th>year</th>\n",
       "    </tr>\n",
       "  </thead>\n",
       "  <tbody>\n",
       "    <tr>\n",
       "      <th>0</th>\n",
       "      <td>Psychiatric-Related Revisits to the Emergency ...</td>\n",
       "      <td>OBJECTIVES: Repeat visits (revisits) to Emerge...</td>\n",
       "      <td>Psychiatric-Related Revisits to the Emergency ...</td>\n",
       "      <td>Academic Emergency Medicine</td>\n",
       "      <td>2019</td>\n",
       "    </tr>\n",
       "    <tr>\n",
       "      <th>1</th>\n",
       "      <td>Synergistic Bradycardia from Beta Blockers, Hy...</td>\n",
       "      <td>BACKGROUND: Bradycardia is a common vital sign...</td>\n",
       "      <td>Synergistic Bradycardia from Beta Blockers, Hy...</td>\n",
       "      <td>Journal of Emergency Medicine</td>\n",
       "      <td>2019</td>\n",
       "    </tr>\n",
       "    <tr>\n",
       "      <th>2</th>\n",
       "      <td>Lack of fetal effect from adenosine administra...</td>\n",
       "      <td>Supraventricular Tachycardias are the most com...</td>\n",
       "      <td>Lack of fetal effect from adenosine administra...</td>\n",
       "      <td>American Journal of Emergency Medicine</td>\n",
       "      <td>2019</td>\n",
       "    </tr>\n",
       "    <tr>\n",
       "      <th>3</th>\n",
       "      <td>Comparing intranasal ketamine with intravenous...</td>\n",
       "      <td>BACKGROUND: Kidney stones are a fairly common ...</td>\n",
       "      <td>Comparing intranasal ketamine with intravenous...</td>\n",
       "      <td>American Journal of Emergency Medicine</td>\n",
       "      <td>2019</td>\n",
       "    </tr>\n",
       "    <tr>\n",
       "      <th>4</th>\n",
       "      <td>Involuntary patient length-of-stay at a suburb...</td>\n",
       "      <td>BACKGROUND: Patients who may be a danger to th...</td>\n",
       "      <td>Involuntary patient length-of-stay at a suburb...</td>\n",
       "      <td>American Journal of Emergency Medicine</td>\n",
       "      <td>2019</td>\n",
       "    </tr>\n",
       "  </tbody>\n",
       "</table>\n",
       "</div>"
      ],
      "text/plain": [
       "                                               title  \\\n",
       "0  Psychiatric-Related Revisits to the Emergency ...   \n",
       "1  Synergistic Bradycardia from Beta Blockers, Hy...   \n",
       "2  Lack of fetal effect from adenosine administra...   \n",
       "3  Comparing intranasal ketamine with intravenous...   \n",
       "4  Involuntary patient length-of-stay at a suburb...   \n",
       "\n",
       "                                            abstract  \\\n",
       "0  OBJECTIVES: Repeat visits (revisits) to Emerge...   \n",
       "1  BACKGROUND: Bradycardia is a common vital sign...   \n",
       "2  Supraventricular Tachycardias are the most com...   \n",
       "3  BACKGROUND: Kidney stones are a fairly common ...   \n",
       "4  BACKGROUND: Patients who may be a danger to th...   \n",
       "\n",
       "                                      title_abstract  \\\n",
       "0  Psychiatric-Related Revisits to the Emergency ...   \n",
       "1  Synergistic Bradycardia from Beta Blockers, Hy...   \n",
       "2  Lack of fetal effect from adenosine administra...   \n",
       "3  Comparing intranasal ketamine with intravenous...   \n",
       "4  Involuntary patient length-of-stay at a suburb...   \n",
       "\n",
       "                                  journal  year  \n",
       "0             Academic Emergency Medicine  2019  \n",
       "1           Journal of Emergency Medicine  2019  \n",
       "2  American Journal of Emergency Medicine  2019  \n",
       "3  American Journal of Emergency Medicine  2019  \n",
       "4  American Journal of Emergency Medicine  2019  "
      ]
     },
     "execution_count": 2,
     "metadata": {},
     "output_type": "execute_result"
    }
   ],
   "source": [
    "df = pd.read_csv(\"../Data/data_cleaned.csv\")\n",
    "df.head()"
   ]
  },
  {
   "cell_type": "code",
   "execution_count": 3,
   "metadata": {},
   "outputs": [],
   "source": [
    "# function to clean text\n",
    "\n",
    "stop_words = set(stopwords.words('english'))\n",
    "stop_words.update(['.', ',', '\"', \"'\", '?', '!', ':', ';', '(', ')', '[', ']', '{', '}', 'copyright', 'inc', 'mosby', 'mm', 'hg', 'american', 'college'])\n",
    "\n",
    "def cleanText(text):\n",
    "    \n",
    "    text = re.split(\"(methods:)|(methodology:)\", text, flags=re.IGNORECASE)[0]\n",
    "    \n",
    "    text = re.sub(r'\\|\\|\\|', r' ', text) \n",
    "    text = re.sub(r'http\\S+', r'<URL>', text)\n",
    "    text = re.sub(r'[^a-zA-z\\s]', ' ', text)\n",
    "    text = text.lower()\n",
    "    text = [i for i in text.split() if i not in stop_words]\n",
    "    text = ' '.join(text)\n",
    "    return text"
   ]
  },
  {
   "cell_type": "code",
   "execution_count": 4,
   "metadata": {},
   "outputs": [],
   "source": [
    "df['title_abstract'] = df['title_abstract'].astype('str').apply(cleanText)\n",
    "df['decade'] = df['year']//10 * 10"
   ]
  },
  {
   "cell_type": "code",
   "execution_count": 5,
   "metadata": {},
   "outputs": [
    {
     "data": {
      "text/html": [
       "<div>\n",
       "<style scoped>\n",
       "    .dataframe tbody tr th:only-of-type {\n",
       "        vertical-align: middle;\n",
       "    }\n",
       "\n",
       "    .dataframe tbody tr th {\n",
       "        vertical-align: top;\n",
       "    }\n",
       "\n",
       "    .dataframe thead th {\n",
       "        text-align: right;\n",
       "    }\n",
       "</style>\n",
       "<table border=\"1\" class=\"dataframe\">\n",
       "  <thead>\n",
       "    <tr style=\"text-align: right;\">\n",
       "      <th></th>\n",
       "      <th>title</th>\n",
       "      <th>abstract</th>\n",
       "      <th>title_abstract</th>\n",
       "      <th>journal</th>\n",
       "      <th>year</th>\n",
       "      <th>decade</th>\n",
       "    </tr>\n",
       "  </thead>\n",
       "  <tbody>\n",
       "    <tr>\n",
       "      <th>0</th>\n",
       "      <td>Psychiatric-Related Revisits to the Emergency ...</td>\n",
       "      <td>OBJECTIVES: Repeat visits (revisits) to Emerge...</td>\n",
       "      <td>psychiatric related revisits emergency departm...</td>\n",
       "      <td>Academic Emergency Medicine</td>\n",
       "      <td>2019</td>\n",
       "      <td>2010</td>\n",
       "    </tr>\n",
       "    <tr>\n",
       "      <th>1</th>\n",
       "      <td>Synergistic Bradycardia from Beta Blockers, Hy...</td>\n",
       "      <td>BACKGROUND: Bradycardia is a common vital sign...</td>\n",
       "      <td>synergistic bradycardia beta blockers hyperkal...</td>\n",
       "      <td>Journal of Emergency Medicine</td>\n",
       "      <td>2019</td>\n",
       "      <td>2010</td>\n",
       "    </tr>\n",
       "    <tr>\n",
       "      <th>2</th>\n",
       "      <td>Lack of fetal effect from adenosine administra...</td>\n",
       "      <td>Supraventricular Tachycardias are the most com...</td>\n",
       "      <td>lack fetal effect adenosine administration pre...</td>\n",
       "      <td>American Journal of Emergency Medicine</td>\n",
       "      <td>2019</td>\n",
       "      <td>2010</td>\n",
       "    </tr>\n",
       "    <tr>\n",
       "      <th>3</th>\n",
       "      <td>Comparing intranasal ketamine with intravenous...</td>\n",
       "      <td>BACKGROUND: Kidney stones are a fairly common ...</td>\n",
       "      <td>comparing intranasal ketamine intravenous fent...</td>\n",
       "      <td>American Journal of Emergency Medicine</td>\n",
       "      <td>2019</td>\n",
       "      <td>2010</td>\n",
       "    </tr>\n",
       "    <tr>\n",
       "      <th>4</th>\n",
       "      <td>Involuntary patient length-of-stay at a suburb...</td>\n",
       "      <td>BACKGROUND: Patients who may be a danger to th...</td>\n",
       "      <td>involuntary patient length stay suburban emerg...</td>\n",
       "      <td>American Journal of Emergency Medicine</td>\n",
       "      <td>2019</td>\n",
       "      <td>2010</td>\n",
       "    </tr>\n",
       "  </tbody>\n",
       "</table>\n",
       "</div>"
      ],
      "text/plain": [
       "                                               title  \\\n",
       "0  Psychiatric-Related Revisits to the Emergency ...   \n",
       "1  Synergistic Bradycardia from Beta Blockers, Hy...   \n",
       "2  Lack of fetal effect from adenosine administra...   \n",
       "3  Comparing intranasal ketamine with intravenous...   \n",
       "4  Involuntary patient length-of-stay at a suburb...   \n",
       "\n",
       "                                            abstract  \\\n",
       "0  OBJECTIVES: Repeat visits (revisits) to Emerge...   \n",
       "1  BACKGROUND: Bradycardia is a common vital sign...   \n",
       "2  Supraventricular Tachycardias are the most com...   \n",
       "3  BACKGROUND: Kidney stones are a fairly common ...   \n",
       "4  BACKGROUND: Patients who may be a danger to th...   \n",
       "\n",
       "                                      title_abstract  \\\n",
       "0  psychiatric related revisits emergency departm...   \n",
       "1  synergistic bradycardia beta blockers hyperkal...   \n",
       "2  lack fetal effect adenosine administration pre...   \n",
       "3  comparing intranasal ketamine intravenous fent...   \n",
       "4  involuntary patient length stay suburban emerg...   \n",
       "\n",
       "                                  journal  year  decade  \n",
       "0             Academic Emergency Medicine  2019    2010  \n",
       "1           Journal of Emergency Medicine  2019    2010  \n",
       "2  American Journal of Emergency Medicine  2019    2010  \n",
       "3  American Journal of Emergency Medicine  2019    2010  \n",
       "4  American Journal of Emergency Medicine  2019    2010  "
      ]
     },
     "execution_count": 5,
     "metadata": {},
     "output_type": "execute_result"
    }
   ],
   "source": [
    "df.head()"
   ]
  },
  {
   "cell_type": "code",
   "execution_count": 6,
   "metadata": {},
   "outputs": [
    {
     "data": {
      "text/plain": [
       "'clinical management decisions adults prolonged acute cough frequency associated factors background uncomplicated episodes prolonged acute cough usually viral self limited despite evidence recommendations contrary often treated antibiotics'"
      ]
     },
     "execution_count": 6,
     "metadata": {},
     "output_type": "execute_result"
    }
   ],
   "source": [
    "df['title_abstract'][57]"
   ]
  },
  {
   "cell_type": "code",
   "execution_count": 7,
   "metadata": {},
   "outputs": [],
   "source": [
    "documents = [nltk.word_tokenize(cc) for cc in df['title_abstract']]"
   ]
  },
  {
   "cell_type": "code",
   "execution_count": 8,
   "metadata": {},
   "outputs": [
    {
     "name": "stdout",
     "output_type": "stream",
     "text": [
      "['clinical', 'management', 'decisions', 'adults', 'prolonged', 'acute', 'cough', 'frequency', 'associated', 'factors', 'background', 'uncomplicated', 'episodes', 'prolonged', 'acute', 'cough', 'usually', 'viral', 'self', 'limited', 'despite', 'evidence', 'recommendations', 'contrary', 'often', 'treated', 'antibiotics']\n"
     ]
    }
   ],
   "source": [
    "print(documents[57])"
   ]
  },
  {
   "cell_type": "code",
   "execution_count": 9,
   "metadata": {},
   "outputs": [],
   "source": [
    "# Compute bigrams.\n",
    "\n",
    "\n",
    "# Add bigrams and trigrams to docs (only ones that appear 20 times or more).\n",
    "bigram = Phrases(documents, min_count=20)\n",
    "for idx in range(len(documents)):\n",
    "    for token in bigram[documents[idx]]:\n",
    "        if '_' in token:\n",
    "            # Token is a bigram, add to document.\n",
    "            documents[idx].append(token)"
   ]
  },
  {
   "cell_type": "code",
   "execution_count": 14,
   "metadata": {},
   "outputs": [
    {
     "name": "stdout",
     "output_type": "stream",
     "text": [
      "Number of unique tokens prior to filter: 30388\n",
      "Number of unique tokens after to filter: 5753\n",
      "Number of documents: 20528\n"
     ]
    }
   ],
   "source": [
    "# Remove rare and common tokens.\n",
    "\n",
    "# Create a dictionary representation of the documents.\n",
    "dictionary = Dictionary(documents)\n",
    "\n",
    "print('Number of unique tokens prior to filter: %d' % len(dictionary))\n",
    "\n",
    "# Filter out words that occur less than 25 documents, or more than 10% of the documents.\n",
    "dictionary.filter_extremes(no_below=25, no_above=0.10)\n",
    "\n",
    "print('Number of unique tokens after to filter: %d' % len(dictionary))\n",
    "print('Number of documents: %d' % len(corpus))"
   ]
  },
  {
   "cell_type": "code",
   "execution_count": 15,
   "metadata": {},
   "outputs": [],
   "source": [
    "corpus = [dictionary.doc2bow(doc) for doc in documents]"
   ]
  },
  {
   "cell_type": "code",
   "execution_count": 16,
   "metadata": {},
   "outputs": [],
   "source": [
    "\n",
    "data_list = [df, documents, dictionary, corpus]\n",
    "\n",
    "with open('../data/data_list', 'wb') as fp:\n",
    "    pickle.dump(data_list, fp)"
   ]
  },
  {
   "cell_type": "code",
   "execution_count": null,
   "metadata": {},
   "outputs": [],
   "source": []
  }
 ],
 "metadata": {
  "kernelspec": {
   "display_name": "Python [conda env:EDSepsisScreen]",
   "language": "python",
   "name": "conda-env-EDSepsisScreen-py"
  },
  "language_info": {
   "codemirror_mode": {
    "name": "ipython",
    "version": 3
   },
   "file_extension": ".py",
   "mimetype": "text/x-python",
   "name": "python",
   "nbconvert_exporter": "python",
   "pygments_lexer": "ipython3",
   "version": "3.6.8"
  }
 },
 "nbformat": 4,
 "nbformat_minor": 2
}
