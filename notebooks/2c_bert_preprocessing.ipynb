{
 "cells": [
  {
   "cell_type": "markdown",
   "metadata": {},
   "source": [
    "#### Cleaning and Processing Abstract for Topic Modeling"
   ]
  },
  {
   "cell_type": "code",
   "execution_count": 1,
   "metadata": {},
   "outputs": [],
   "source": [
    "import sys\n",
    "import os\n",
    "import pandas as pd\n",
    "import pickle\n",
    "\n",
    "import warnings\n",
    "warnings.filterwarnings('ignore')\n",
    "\n",
    "from gensim.corpora import Dictionary\n",
    "from gensim.models import Phrases\n",
    "\n",
    "import gensim\n",
    "import nltk\n",
    "\n",
    "from nltk import word_tokenize\n",
    "from nltk.corpus import stopwords\n",
    "import re\n",
    "\n",
    "import spacy\n"
   ]
  },
  {
   "cell_type": "code",
   "execution_count": 106,
   "metadata": {},
   "outputs": [
    {
     "data": {
      "text/html": [
       "<div>\n",
       "<style scoped>\n",
       "    .dataframe tbody tr th:only-of-type {\n",
       "        vertical-align: middle;\n",
       "    }\n",
       "\n",
       "    .dataframe tbody tr th {\n",
       "        vertical-align: top;\n",
       "    }\n",
       "\n",
       "    .dataframe thead th {\n",
       "        text-align: right;\n",
       "    }\n",
       "</style>\n",
       "<table border=\"1\" class=\"dataframe\">\n",
       "  <thead>\n",
       "    <tr style=\"text-align: right;\">\n",
       "      <th></th>\n",
       "      <th>title</th>\n",
       "      <th>abstract</th>\n",
       "      <th>title_abstract</th>\n",
       "      <th>journal</th>\n",
       "      <th>year</th>\n",
       "    </tr>\n",
       "  </thead>\n",
       "  <tbody>\n",
       "    <tr>\n",
       "      <th>0</th>\n",
       "      <td>Psychiatric-Related Revisits to the Emergency ...</td>\n",
       "      <td>OBJECTIVES: Repeat visits (revisits) to Emerge...</td>\n",
       "      <td>Psychiatric-Related Revisits to the Emergency ...</td>\n",
       "      <td>Academic Emergency Medicine</td>\n",
       "      <td>2019</td>\n",
       "    </tr>\n",
       "    <tr>\n",
       "      <th>1</th>\n",
       "      <td>Synergistic Bradycardia from Beta Blockers, Hy...</td>\n",
       "      <td>BACKGROUND: Bradycardia is a common vital sign...</td>\n",
       "      <td>Synergistic Bradycardia from Beta Blockers, Hy...</td>\n",
       "      <td>Journal of Emergency Medicine</td>\n",
       "      <td>2019</td>\n",
       "    </tr>\n",
       "    <tr>\n",
       "      <th>2</th>\n",
       "      <td>Lack of fetal effect from adenosine administra...</td>\n",
       "      <td>Supraventricular Tachycardias are the most com...</td>\n",
       "      <td>Lack of fetal effect from adenosine administra...</td>\n",
       "      <td>American Journal of Emergency Medicine</td>\n",
       "      <td>2019</td>\n",
       "    </tr>\n",
       "    <tr>\n",
       "      <th>3</th>\n",
       "      <td>Comparing intranasal ketamine with intravenous...</td>\n",
       "      <td>BACKGROUND: Kidney stones are a fairly common ...</td>\n",
       "      <td>Comparing intranasal ketamine with intravenous...</td>\n",
       "      <td>American Journal of Emergency Medicine</td>\n",
       "      <td>2019</td>\n",
       "    </tr>\n",
       "    <tr>\n",
       "      <th>4</th>\n",
       "      <td>Involuntary patient length-of-stay at a suburb...</td>\n",
       "      <td>BACKGROUND: Patients who may be a danger to th...</td>\n",
       "      <td>Involuntary patient length-of-stay at a suburb...</td>\n",
       "      <td>American Journal of Emergency Medicine</td>\n",
       "      <td>2019</td>\n",
       "    </tr>\n",
       "  </tbody>\n",
       "</table>\n",
       "</div>"
      ],
      "text/plain": [
       "                                               title  \\\n",
       "0  Psychiatric-Related Revisits to the Emergency ...   \n",
       "1  Synergistic Bradycardia from Beta Blockers, Hy...   \n",
       "2  Lack of fetal effect from adenosine administra...   \n",
       "3  Comparing intranasal ketamine with intravenous...   \n",
       "4  Involuntary patient length-of-stay at a suburb...   \n",
       "\n",
       "                                            abstract  \\\n",
       "0  OBJECTIVES: Repeat visits (revisits) to Emerge...   \n",
       "1  BACKGROUND: Bradycardia is a common vital sign...   \n",
       "2  Supraventricular Tachycardias are the most com...   \n",
       "3  BACKGROUND: Kidney stones are a fairly common ...   \n",
       "4  BACKGROUND: Patients who may be a danger to th...   \n",
       "\n",
       "                                      title_abstract  \\\n",
       "0  Psychiatric-Related Revisits to the Emergency ...   \n",
       "1  Synergistic Bradycardia from Beta Blockers, Hy...   \n",
       "2  Lack of fetal effect from adenosine administra...   \n",
       "3  Comparing intranasal ketamine with intravenous...   \n",
       "4  Involuntary patient length-of-stay at a suburb...   \n",
       "\n",
       "                                  journal  year  \n",
       "0             Academic Emergency Medicine  2019  \n",
       "1           Journal of Emergency Medicine  2019  \n",
       "2  American Journal of Emergency Medicine  2019  \n",
       "3  American Journal of Emergency Medicine  2019  \n",
       "4  American Journal of Emergency Medicine  2019  "
      ]
     },
     "execution_count": 106,
     "metadata": {},
     "output_type": "execute_result"
    }
   ],
   "source": [
    "df = pd.read_csv(\"../Data/data_cleaned.csv\")\n",
    "df.head()"
   ]
  },
  {
   "cell_type": "code",
   "execution_count": 107,
   "metadata": {},
   "outputs": [
    {
     "data": {
      "text/html": [
       "<div>\n",
       "<style scoped>\n",
       "    .dataframe tbody tr th:only-of-type {\n",
       "        vertical-align: middle;\n",
       "    }\n",
       "\n",
       "    .dataframe tbody tr th {\n",
       "        vertical-align: top;\n",
       "    }\n",
       "\n",
       "    .dataframe thead th {\n",
       "        text-align: right;\n",
       "    }\n",
       "</style>\n",
       "<table border=\"1\" class=\"dataframe\">\n",
       "  <thead>\n",
       "    <tr style=\"text-align: right;\">\n",
       "      <th></th>\n",
       "      <th>title</th>\n",
       "      <th>abstract</th>\n",
       "      <th>title_abstract</th>\n",
       "      <th>journal</th>\n",
       "      <th>year</th>\n",
       "    </tr>\n",
       "  </thead>\n",
       "  <tbody>\n",
       "    <tr>\n",
       "      <th>0</th>\n",
       "      <td>Psychiatric-Related Revisits to the Emergency ...</td>\n",
       "      <td>OBJECTIVES: Repeat visits (revisits) to Emerge...</td>\n",
       "      <td>psychiatric related revisits emergency departm...</td>\n",
       "      <td>Academic Emergency Medicine</td>\n",
       "      <td>2019</td>\n",
       "    </tr>\n",
       "    <tr>\n",
       "      <th>1</th>\n",
       "      <td>Synergistic Bradycardia from Beta Blockers, Hy...</td>\n",
       "      <td>BACKGROUND: Bradycardia is a common vital sign...</td>\n",
       "      <td>synergistic bradycardia beta blockers, hyperka...</td>\n",
       "      <td>Journal of Emergency Medicine</td>\n",
       "      <td>2019</td>\n",
       "    </tr>\n",
       "    <tr>\n",
       "      <th>2</th>\n",
       "      <td>Lack of fetal effect from adenosine administra...</td>\n",
       "      <td>Supraventricular Tachycardias are the most com...</td>\n",
       "      <td>lack fetal effect adenosine administration pre...</td>\n",
       "      <td>American Journal of Emergency Medicine</td>\n",
       "      <td>2019</td>\n",
       "    </tr>\n",
       "    <tr>\n",
       "      <th>3</th>\n",
       "      <td>Comparing intranasal ketamine with intravenous...</td>\n",
       "      <td>BACKGROUND: Kidney stones are a fairly common ...</td>\n",
       "      <td>comparing intranasal ketamine intravenous fent...</td>\n",
       "      <td>American Journal of Emergency Medicine</td>\n",
       "      <td>2019</td>\n",
       "    </tr>\n",
       "    <tr>\n",
       "      <th>4</th>\n",
       "      <td>Involuntary patient length-of-stay at a suburb...</td>\n",
       "      <td>BACKGROUND: Patients who may be a danger to th...</td>\n",
       "      <td>involuntary patient length of stay suburban em...</td>\n",
       "      <td>American Journal of Emergency Medicine</td>\n",
       "      <td>2019</td>\n",
       "    </tr>\n",
       "  </tbody>\n",
       "</table>\n",
       "</div>"
      ],
      "text/plain": [
       "                                               title  \\\n",
       "0  Psychiatric-Related Revisits to the Emergency ...   \n",
       "1  Synergistic Bradycardia from Beta Blockers, Hy...   \n",
       "2  Lack of fetal effect from adenosine administra...   \n",
       "3  Comparing intranasal ketamine with intravenous...   \n",
       "4  Involuntary patient length-of-stay at a suburb...   \n",
       "\n",
       "                                            abstract  \\\n",
       "0  OBJECTIVES: Repeat visits (revisits) to Emerge...   \n",
       "1  BACKGROUND: Bradycardia is a common vital sign...   \n",
       "2  Supraventricular Tachycardias are the most com...   \n",
       "3  BACKGROUND: Kidney stones are a fairly common ...   \n",
       "4  BACKGROUND: Patients who may be a danger to th...   \n",
       "\n",
       "                                      title_abstract  \\\n",
       "0  psychiatric related revisits emergency departm...   \n",
       "1  synergistic bradycardia beta blockers, hyperka...   \n",
       "2  lack fetal effect adenosine administration pre...   \n",
       "3  comparing intranasal ketamine intravenous fent...   \n",
       "4  involuntary patient length of stay suburban em...   \n",
       "\n",
       "                                  journal  year  \n",
       "0             Academic Emergency Medicine  2019  \n",
       "1           Journal of Emergency Medicine  2019  \n",
       "2  American Journal of Emergency Medicine  2019  \n",
       "3  American Journal of Emergency Medicine  2019  \n",
       "4  American Journal of Emergency Medicine  2019  "
      ]
     },
     "execution_count": 107,
     "metadata": {},
     "output_type": "execute_result"
    }
   ],
   "source": [
    "# function to clean text\n",
    "\n",
    "def initial_cleanText(text):\n",
    "    \n",
    "    stop_words = set(stopwords.words('english'))\n",
    "    stop_words.update(['elsevier', 'copyright', 'rights' 'reserved', 'ed'])\n",
    "    text = text.lower()\n",
    "\n",
    "    # strip section before methodology\n",
    "    text = re.split(\"(methods:)|(methodology:)\", text, flags=re.IGNORECASE)[0]\n",
    "    text = [i for i in text.split() if i not in stop_words]\n",
    "    text = ' '.join(text)\n",
    "    text = re.sub('-', ' ', text)\n",
    "    return text\n",
    "\n",
    "df['title_abstract'] = df['title_abstract'].astype('str').apply(initial_cleanText)\n",
    "df.head()\n"
   ]
  },
  {
   "cell_type": "code",
   "execution_count": 108,
   "metadata": {},
   "outputs": [
    {
     "data": {
      "text/plain": [
       "'psychiatric related revisits emergency department following rapid expansion community mental health services. objectives: repeat visits (revisits) emergency departments (eds) psychiatric care reflect poor continuity care impose high financial cost. test whether rapid expansion community health centers (chcs) which provide regional, low cost primary care correspond fewer repeat psychiatric related visits (predvs).'"
      ]
     },
     "execution_count": 108,
     "metadata": {},
     "output_type": "execute_result"
    }
   ],
   "source": [
    "test1 = df['title_abstract'][0]\n",
    "test1"
   ]
  },
  {
   "cell_type": "code",
   "execution_count": 105,
   "metadata": {},
   "outputs": [],
   "source": [
    "import scispacy\n",
    "nlp = spacy.load(\"en_core_sci_md\") # loading the language model "
   ]
  },
  {
   "cell_type": "code",
   "execution_count": 109,
   "metadata": {},
   "outputs": [],
   "source": [
    "def clean_nlp(text):  # clean up your text and generate list of words for each document. \n",
    "    removal=['PRON','CCONJ','PUNCT','PART','DET','ADP','SPACE']\n",
    "    text_out = []\n",
    "    doc= nlp(text)\n",
    "    for token in doc:\n",
    "        if token.is_stop == False and token.is_alpha and len(token)>2 and token.pos_ not in removal:\n",
    "            lemma = token.lemma_\n",
    "            text_out.append(lemma)        \n",
    "    return text_out\n",
    "documents = df.title_abstract.apply(lambda x:clean_nlp(x))\n"
   ]
  },
  {
   "cell_type": "code",
   "execution_count": 110,
   "metadata": {},
   "outputs": [],
   "source": [
    "def clean_nlp2(text):  # clean up your text and generate list of words for each document. \n",
    "    removal=['PRON','CCONJ','PUNCT','PART','DET','ADP','SPACE']\n",
    "    text_out = []\n",
    "    doc= nlp(text)\n",
    "    for token in doc:\n",
    "        if token.is_stop == False and token.is_alpha and len(token)>2 and token.pos_ not in removal:\n",
    "            lemma = token.lemma_\n",
    "            text_out.append(lemma)    \n",
    "    text_out = ' '.join(text_out)\n",
    "    return text_out\n",
    "df['bert'] = df.title_abstract.apply(lambda x:clean_nlp2(x))"
   ]
  },
  {
   "cell_type": "code",
   "execution_count": 111,
   "metadata": {},
   "outputs": [
    {
     "data": {
      "text/html": [
       "<div>\n",
       "<style scoped>\n",
       "    .dataframe tbody tr th:only-of-type {\n",
       "        vertical-align: middle;\n",
       "    }\n",
       "\n",
       "    .dataframe tbody tr th {\n",
       "        vertical-align: top;\n",
       "    }\n",
       "\n",
       "    .dataframe thead th {\n",
       "        text-align: right;\n",
       "    }\n",
       "</style>\n",
       "<table border=\"1\" class=\"dataframe\">\n",
       "  <thead>\n",
       "    <tr style=\"text-align: right;\">\n",
       "      <th></th>\n",
       "      <th>title</th>\n",
       "      <th>abstract</th>\n",
       "      <th>title_abstract</th>\n",
       "      <th>journal</th>\n",
       "      <th>year</th>\n",
       "      <th>bert</th>\n",
       "    </tr>\n",
       "  </thead>\n",
       "  <tbody>\n",
       "    <tr>\n",
       "      <th>0</th>\n",
       "      <td>Psychiatric-Related Revisits to the Emergency ...</td>\n",
       "      <td>OBJECTIVES: Repeat visits (revisits) to Emerge...</td>\n",
       "      <td>psychiatric related revisits emergency departm...</td>\n",
       "      <td>Academic Emergency Medicine</td>\n",
       "      <td>2019</td>\n",
       "      <td>psychiatric related revisit emergency departme...</td>\n",
       "    </tr>\n",
       "    <tr>\n",
       "      <th>1</th>\n",
       "      <td>Synergistic Bradycardia from Beta Blockers, Hy...</td>\n",
       "      <td>BACKGROUND: Bradycardia is a common vital sign...</td>\n",
       "      <td>synergistic bradycardia beta blockers, hyperka...</td>\n",
       "      <td>Journal of Emergency Medicine</td>\n",
       "      <td>2019</td>\n",
       "      <td>synergistic bradycardia beta blocker hyperkale...</td>\n",
       "    </tr>\n",
       "    <tr>\n",
       "      <th>2</th>\n",
       "      <td>Lack of fetal effect from adenosine administra...</td>\n",
       "      <td>Supraventricular Tachycardias are the most com...</td>\n",
       "      <td>lack fetal effect adenosine administration pre...</td>\n",
       "      <td>American Journal of Emergency Medicine</td>\n",
       "      <td>2019</td>\n",
       "      <td>lack fetal effect adenosine administration pre...</td>\n",
       "    </tr>\n",
       "    <tr>\n",
       "      <th>3</th>\n",
       "      <td>Comparing intranasal ketamine with intravenous...</td>\n",
       "      <td>BACKGROUND: Kidney stones are a fairly common ...</td>\n",
       "      <td>comparing intranasal ketamine intravenous fent...</td>\n",
       "      <td>American Journal of Emergency Medicine</td>\n",
       "      <td>2019</td>\n",
       "      <td>compare intranasal ketamine intravenous fentan...</td>\n",
       "    </tr>\n",
       "    <tr>\n",
       "      <th>4</th>\n",
       "      <td>Involuntary patient length-of-stay at a suburb...</td>\n",
       "      <td>BACKGROUND: Patients who may be a danger to th...</td>\n",
       "      <td>involuntary patient length of stay suburban em...</td>\n",
       "      <td>American Journal of Emergency Medicine</td>\n",
       "      <td>2019</td>\n",
       "      <td>involuntary patient length stay suburban emerg...</td>\n",
       "    </tr>\n",
       "  </tbody>\n",
       "</table>\n",
       "</div>"
      ],
      "text/plain": [
       "                                               title  \\\n",
       "0  Psychiatric-Related Revisits to the Emergency ...   \n",
       "1  Synergistic Bradycardia from Beta Blockers, Hy...   \n",
       "2  Lack of fetal effect from adenosine administra...   \n",
       "3  Comparing intranasal ketamine with intravenous...   \n",
       "4  Involuntary patient length-of-stay at a suburb...   \n",
       "\n",
       "                                            abstract  \\\n",
       "0  OBJECTIVES: Repeat visits (revisits) to Emerge...   \n",
       "1  BACKGROUND: Bradycardia is a common vital sign...   \n",
       "2  Supraventricular Tachycardias are the most com...   \n",
       "3  BACKGROUND: Kidney stones are a fairly common ...   \n",
       "4  BACKGROUND: Patients who may be a danger to th...   \n",
       "\n",
       "                                      title_abstract  \\\n",
       "0  psychiatric related revisits emergency departm...   \n",
       "1  synergistic bradycardia beta blockers, hyperka...   \n",
       "2  lack fetal effect adenosine administration pre...   \n",
       "3  comparing intranasal ketamine intravenous fent...   \n",
       "4  involuntary patient length of stay suburban em...   \n",
       "\n",
       "                                  journal  year  \\\n",
       "0             Academic Emergency Medicine  2019   \n",
       "1           Journal of Emergency Medicine  2019   \n",
       "2  American Journal of Emergency Medicine  2019   \n",
       "3  American Journal of Emergency Medicine  2019   \n",
       "4  American Journal of Emergency Medicine  2019   \n",
       "\n",
       "                                                bert  \n",
       "0  psychiatric related revisit emergency departme...  \n",
       "1  synergistic bradycardia beta blocker hyperkale...  \n",
       "2  lack fetal effect adenosine administration pre...  \n",
       "3  compare intranasal ketamine intravenous fentan...  \n",
       "4  involuntary patient length stay suburban emerg...  "
      ]
     },
     "execution_count": 111,
     "metadata": {},
     "output_type": "execute_result"
    }
   ],
   "source": [
    "df.head()"
   ]
  },
  {
   "cell_type": "code",
   "execution_count": 113,
   "metadata": {},
   "outputs": [
    {
     "name": "stdout",
     "output_type": "stream",
     "text": [
      "psychiatric related revisits emergency department following rapid expansion community mental health services. objectives: repeat visits (revisits) emergency departments (eds) psychiatric care reflect poor continuity care impose high financial cost. test whether rapid expansion community health centers (chcs) which provide regional, low cost primary care correspond fewer repeat psychiatric related visits (predvs).\n",
      "['psychiatric', 'related', 'revisit', 'emergency', 'department', 'follow', 'rapid', 'expansion', 'community', 'mental', 'health', 'service', 'objective', 'repeat', 'visit', 'revisit', 'emergency', 'department', 'ed', 'psychiatric', 'care', 'reflect', 'poor', 'continuity', 'care', 'impose', 'high', 'financial', 'cost', 'test', 'rapid', 'expansion', 'community', 'health', 'center', 'chcs', 'provide', 'regional', 'low', 'cost', 'primary', 'care', 'correspond', 'few', 'repeat', 'psychiatric', 'related', 'visit', 'predvs']\n"
     ]
    }
   ],
   "source": [
    "print(df['title_abstract'][0])\n",
    "print(documents[0])"
   ]
  },
  {
   "cell_type": "code",
   "execution_count": 126,
   "metadata": {},
   "outputs": [
    {
     "name": "stdout",
     "output_type": "stream",
     "text": [
      "Number of unique tokens prior to filter: 23001\n",
      "Number of unique tokens after to filter: 3845\n"
     ]
    }
   ],
   "source": [
    "# Remove rare and common tokens.\n",
    "\n",
    "# Create a dictionary representation of the documents.\n",
    "dictionary = Dictionary(documents)\n",
    "\n",
    "print('Number of unique tokens prior to filter: %d' % len(dictionary))\n",
    "\n",
    "# Filter out words that occur less than 10 documents, or more than 20% of the documents.\n",
    "dictionary.filter_extremes(no_below=20, no_above=0.05)\n",
    "\n",
    "\n",
    "print('Number of unique tokens after to filter: %d' % len(dictionary))\n"
   ]
  },
  {
   "cell_type": "code",
   "execution_count": 127,
   "metadata": {},
   "outputs": [],
   "source": [
    "def filter_words(text, dictionary):\n",
    "   \n",
    "    text_out = [i for i in text.split() if i in dictionary.values()]\n",
    "    text_out = ' '.join(text_out)\n",
    "    return text_out"
   ]
  },
  {
   "cell_type": "code",
   "execution_count": 128,
   "metadata": {},
   "outputs": [],
   "source": [
    "df['bert_filtered'] = df['bert'].apply(lambda x:filter_words(x, dictionary))"
   ]
  },
  {
   "cell_type": "code",
   "execution_count": 129,
   "metadata": {},
   "outputs": [
    {
     "name": "stdout",
     "output_type": "stream",
     "text": [
      "psychiatric related revisits emergency department following rapid expansion community mental health services. objectives: repeat visits (revisits) emergency departments (eds) psychiatric care reflect poor continuity care impose high financial cost. test whether rapid expansion community health centers (chcs) which provide regional, low cost primary care correspond fewer repeat psychiatric related visits (predvs).\n",
      "psychiatric related revisit emergency department follow rapid expansion community mental health service objective repeat visit revisit emergency department ed psychiatric care reflect poor continuity care impose high financial cost test rapid expansion community health center chcs provide regional low cost primary care correspond few repeat psychiatric related visit predvs\n",
      "psychiatric revisit rapid expansion community mental repeat revisit ed psychiatric reflect poor continuity financial cost rapid expansion community regional cost primary correspond few repeat psychiatric\n"
     ]
    }
   ],
   "source": [
    "print(df['title_abstract'][0])\n",
    "print(df['bert'][0])\n",
    "print(df['bert_filtered'][0])"
   ]
  },
  {
   "cell_type": "code",
   "execution_count": 130,
   "metadata": {},
   "outputs": [],
   "source": [
    "corpus = [dictionary.doc2bow(doc) for doc in documents]"
   ]
  },
  {
   "cell_type": "code",
   "execution_count": 131,
   "metadata": {},
   "outputs": [],
   "source": [
    "\n",
    "data_list = [df, documents, dictionary, corpus]\n",
    "\n",
    "with open('../data/data_list_bert_filt_20_5', 'wb') as fp:\n",
    "    pickle.dump(data_list, fp)"
   ]
  },
  {
   "cell_type": "code",
   "execution_count": null,
   "metadata": {},
   "outputs": [],
   "source": []
  }
 ],
 "metadata": {
  "kernelspec": {
   "display_name": "Python [conda env:EDSepsisScreen]",
   "language": "python",
   "name": "conda-env-EDSepsisScreen-py"
  },
  "language_info": {
   "codemirror_mode": {
    "name": "ipython",
    "version": 3
   },
   "file_extension": ".py",
   "mimetype": "text/x-python",
   "name": "python",
   "nbconvert_exporter": "python",
   "pygments_lexer": "ipython3",
   "version": "3.6.8"
  }
 },
 "nbformat": 4,
 "nbformat_minor": 2
}
